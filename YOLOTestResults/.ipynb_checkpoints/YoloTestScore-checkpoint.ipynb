{
 "cells": [
  {
   "cell_type": "code",
   "execution_count": 2,
   "metadata": {},
   "outputs": [
    {
     "data": {
      "text/html": [
       "<div>\n",
       "<style scoped>\n",
       "    .dataframe tbody tr th:only-of-type {\n",
       "        vertical-align: middle;\n",
       "    }\n",
       "\n",
       "    .dataframe tbody tr th {\n",
       "        vertical-align: top;\n",
       "    }\n",
       "\n",
       "    .dataframe thead th {\n",
       "        text-align: right;\n",
       "    }\n",
       "</style>\n",
       "<table border=\"1\" class=\"dataframe\">\n",
       "  <thead>\n",
       "    <tr style=\"text-align: right;\">\n",
       "      <th></th>\n",
       "      <th>Videos</th>\n",
       "      <th>ActualCars</th>\n",
       "      <th>ModelCountCars</th>\n",
       "      <th>conf_thres</th>\n",
       "      <th>precision</th>\n",
       "      <th>diff</th>\n",
       "    </tr>\n",
       "  </thead>\n",
       "  <tbody>\n",
       "    <tr>\n",
       "      <th>62</th>\n",
       "      <td>D:\\Ivan\\Test_data\\Katipunan\\test/VID_20200717_...</td>\n",
       "      <td>674</td>\n",
       "      <td>754</td>\n",
       "      <td>0.986</td>\n",
       "      <td>0.893899</td>\n",
       "      <td>80</td>\n",
       "    </tr>\n",
       "    <tr>\n",
       "      <th>60</th>\n",
       "      <td>D:\\Ivan\\Test_data\\Katipunan\\test/VID_20200711_...</td>\n",
       "      <td>618</td>\n",
       "      <td>743</td>\n",
       "      <td>0.986</td>\n",
       "      <td>0.831763</td>\n",
       "      <td>125</td>\n",
       "    </tr>\n",
       "    <tr>\n",
       "      <th>59</th>\n",
       "      <td>D:\\Ivan\\Test_data\\Katipunan\\test/VID_20200708_...</td>\n",
       "      <td>594</td>\n",
       "      <td>796</td>\n",
       "      <td>0.986</td>\n",
       "      <td>0.746231</td>\n",
       "      <td>202</td>\n",
       "    </tr>\n",
       "    <tr>\n",
       "      <th>58</th>\n",
       "      <td>D:\\Ivan\\Test_data\\Katipunan\\test/VID_20200705_...</td>\n",
       "      <td>677</td>\n",
       "      <td>750</td>\n",
       "      <td>0.986</td>\n",
       "      <td>0.902667</td>\n",
       "      <td>73</td>\n",
       "    </tr>\n",
       "    <tr>\n",
       "      <th>61</th>\n",
       "      <td>D:\\Ivan\\Test_data\\Katipunan\\test/VID_20200714_...</td>\n",
       "      <td>602</td>\n",
       "      <td>751</td>\n",
       "      <td>0.986</td>\n",
       "      <td>0.801598</td>\n",
       "      <td>149</td>\n",
       "    </tr>\n",
       "  </tbody>\n",
       "</table>\n",
       "</div>"
      ],
      "text/plain": [
       "                                               Videos  ActualCars  \\\n",
       "62  D:\\Ivan\\Test_data\\Katipunan\\test/VID_20200717_...         674   \n",
       "60  D:\\Ivan\\Test_data\\Katipunan\\test/VID_20200711_...         618   \n",
       "59  D:\\Ivan\\Test_data\\Katipunan\\test/VID_20200708_...         594   \n",
       "58  D:\\Ivan\\Test_data\\Katipunan\\test/VID_20200705_...         677   \n",
       "61  D:\\Ivan\\Test_data\\Katipunan\\test/VID_20200714_...         602   \n",
       "\n",
       "    ModelCountCars  conf_thres  precision  diff  \n",
       "62             754       0.986   0.893899    80  \n",
       "60             743       0.986   0.831763   125  \n",
       "59             796       0.986   0.746231   202  \n",
       "58             750       0.986   0.902667    73  \n",
       "61             751       0.986   0.801598   149  "
      ]
     },
     "execution_count": 2,
     "metadata": {},
     "output_type": "execute_result"
    }
   ],
   "source": [
    "import pandas as pd\n",
    "import numpy as np\n",
    "import matplotlib.pyplot as plt\n",
    "\n",
    "df = pd.read_csv('./YoloModel2ConfParamSweepCombined.csv')\n",
    "df = df[df['ActualCars']!=0]\n",
    "df['precision'] = df['ActualCars']/df['ModelCountCars']\n",
    "df['diff'] = np.absolute(df['ActualCars']-df['ModelCountCars'])\n",
    "df.sort_values(by='conf_thres', inplace = True)\n",
    "df.to_csv('YoloModel2TestPrecisionScore.csv')\n",
    "df.head(5)"
   ]
  },
  {
   "cell_type": "code",
   "execution_count": 3,
   "metadata": {},
   "outputs": [],
   "source": [
    "df1 = df[['conf_thres','precision']]\n",
    "df2= df[['conf_thres','diff']]"
   ]
  },
  {
   "cell_type": "markdown",
   "metadata": {},
   "source": [
    "# Getting the precision"
   ]
  },
  {
   "cell_type": "code",
   "execution_count": 4,
   "metadata": {
    "scrolled": true
   },
   "outputs": [
    {
     "data": {
      "text/html": [
       "<div>\n",
       "<style scoped>\n",
       "    .dataframe tbody tr th:only-of-type {\n",
       "        vertical-align: middle;\n",
       "    }\n",
       "\n",
       "    .dataframe tbody tr th {\n",
       "        vertical-align: top;\n",
       "    }\n",
       "\n",
       "    .dataframe thead th {\n",
       "        text-align: right;\n",
       "    }\n",
       "</style>\n",
       "<table border=\"1\" class=\"dataframe\">\n",
       "  <thead>\n",
       "    <tr style=\"text-align: right;\">\n",
       "      <th></th>\n",
       "      <th>precision</th>\n",
       "    </tr>\n",
       "    <tr>\n",
       "      <th>conf_thres</th>\n",
       "      <th></th>\n",
       "    </tr>\n",
       "  </thead>\n",
       "  <tbody>\n",
       "    <tr>\n",
       "      <th>0.9860</th>\n",
       "      <td>0.835232</td>\n",
       "    </tr>\n",
       "    <tr>\n",
       "      <th>0.9986</th>\n",
       "      <td>0.903283</td>\n",
       "    </tr>\n",
       "    <tr>\n",
       "      <th>0.9987</th>\n",
       "      <td>0.978151</td>\n",
       "    </tr>\n",
       "    <tr>\n",
       "      <th>0.9988</th>\n",
       "      <td>1.016612</td>\n",
       "    </tr>\n",
       "    <tr>\n",
       "      <th>0.9989</th>\n",
       "      <td>1.026006</td>\n",
       "    </tr>\n",
       "  </tbody>\n",
       "</table>\n",
       "</div>"
      ],
      "text/plain": [
       "            precision\n",
       "conf_thres           \n",
       "0.9860       0.835232\n",
       "0.9986       0.903283\n",
       "0.9987       0.978151\n",
       "0.9988       1.016612\n",
       "0.9989       1.026006"
      ]
     },
     "execution_count": 4,
     "metadata": {},
     "output_type": "execute_result"
    }
   ],
   "source": [
    "df1.groupby(by=[\"conf_thres\"]).mean()"
   ]
  },
  {
   "cell_type": "markdown",
   "metadata": {},
   "source": [
    "# Gettting the difference"
   ]
  },
  {
   "cell_type": "code",
   "execution_count": 5,
   "metadata": {},
   "outputs": [
    {
     "data": {
      "text/html": [
       "<div>\n",
       "<style scoped>\n",
       "    .dataframe tbody tr th:only-of-type {\n",
       "        vertical-align: middle;\n",
       "    }\n",
       "\n",
       "    .dataframe tbody tr th {\n",
       "        vertical-align: top;\n",
       "    }\n",
       "\n",
       "    .dataframe thead th {\n",
       "        text-align: right;\n",
       "    }\n",
       "</style>\n",
       "<table border=\"1\" class=\"dataframe\">\n",
       "  <thead>\n",
       "    <tr style=\"text-align: right;\">\n",
       "      <th></th>\n",
       "      <th>diff</th>\n",
       "    </tr>\n",
       "    <tr>\n",
       "      <th>conf_thres</th>\n",
       "      <th></th>\n",
       "    </tr>\n",
       "  </thead>\n",
       "  <tbody>\n",
       "    <tr>\n",
       "      <th>0.9860</th>\n",
       "      <td>125.800000</td>\n",
       "    </tr>\n",
       "    <tr>\n",
       "      <th>0.9986</th>\n",
       "      <td>107.571429</td>\n",
       "    </tr>\n",
       "    <tr>\n",
       "      <th>0.9987</th>\n",
       "      <td>114.583333</td>\n",
       "    </tr>\n",
       "    <tr>\n",
       "      <th>0.9988</th>\n",
       "      <td>71.250000</td>\n",
       "    </tr>\n",
       "    <tr>\n",
       "      <th>0.9989</th>\n",
       "      <td>76.500000</td>\n",
       "    </tr>\n",
       "  </tbody>\n",
       "</table>\n",
       "</div>"
      ],
      "text/plain": [
       "                  diff\n",
       "conf_thres            \n",
       "0.9860      125.800000\n",
       "0.9986      107.571429\n",
       "0.9987      114.583333\n",
       "0.9988       71.250000\n",
       "0.9989       76.500000"
      ]
     },
     "execution_count": 5,
     "metadata": {},
     "output_type": "execute_result"
    }
   ],
   "source": [
    "df2.groupby(by=[\"conf_thres\"]).mean()"
   ]
  },
  {
   "cell_type": "markdown",
   "metadata": {},
   "source": [
    "# Plotting"
   ]
  },
  {
   "cell_type": "code",
   "execution_count": 6,
   "metadata": {},
   "outputs": [
    {
     "name": "stdout",
     "output_type": "stream",
     "text": [
      "7\n",
      "12\n",
      "12\n",
      "12\n"
     ]
    },
    {
     "data": {
      "image/png": "[encoded data removed]",
      "text/plain": [
       "<Figure size 432x288 with 1 Axes>"
      ]
     },
     "metadata": {
      "needs_background": "light"
     },
     "output_type": "display_data"
    }
   ],
   "source": [
    "conf_thres = [0.9986,0.9987,0.9988,0.9989]\n",
    "for conf in conf_thres:\n",
    "    df_plt = df[df['conf_thres']==conf]\n",
    "    x = np.arange(df_plt['precision'].size)\n",
    "    y = df_plt['precision']\n",
    "    print(len(x))\n",
    "    plt.plot(x,y,label = str(conf))\n",
    "plt.xlabel('')\n",
    "plt.ylabel('precision')\n",
    "plt.title('precion of the diff conf_thres vals ')\n",
    "plt.legend()\n",
    "plt.show()\n"
   ]
  },
  {
   "cell_type": "code",
   "execution_count": 8,
   "metadata": {},
   "outputs": [],
   "source": [
    "df_plt = df[df['conf_thres']==0.9988]\n"
   ]
  },
  {
   "cell_type": "markdown",
   "metadata": {},
   "source": [
    "# Min Max scaler\n"
   ]
  },
  {
   "cell_type": "code",
   "execution_count": 9,
   "metadata": {},
   "outputs": [
    {
     "data": {
      "text/html": [
       "<div>\n",
       "<style scoped>\n",
       "    .dataframe tbody tr th:only-of-type {\n",
       "        vertical-align: middle;\n",
       "    }\n",
       "\n",
       "    .dataframe tbody tr th {\n",
       "        vertical-align: top;\n",
       "    }\n",
       "\n",
       "    .dataframe thead th {\n",
       "        text-align: right;\n",
       "    }\n",
       "</style>\n",
       "<table border=\"1\" class=\"dataframe\">\n",
       "  <thead>\n",
       "    <tr style=\"text-align: right;\">\n",
       "      <th></th>\n",
       "      <th>Videos</th>\n",
       "      <th>ActualCars</th>\n",
       "      <th>ModelCountCars</th>\n",
       "      <th>conf_thres</th>\n",
       "      <th>precision</th>\n",
       "      <th>diff</th>\n",
       "    </tr>\n",
       "  </thead>\n",
       "  <tbody>\n",
       "    <tr>\n",
       "      <th>38</th>\n",
       "      <td>D:\\Ivan\\Test_data\\Katipunan\\test/VID_20200705_...</td>\n",
       "      <td>677</td>\n",
       "      <td>753</td>\n",
       "      <td>0.9988</td>\n",
       "      <td>0.899070</td>\n",
       "      <td>76</td>\n",
       "    </tr>\n",
       "    <tr>\n",
       "      <th>41</th>\n",
       "      <td>D:\\Ivan\\Test_data\\Katipunan\\test/VID_20200714_...</td>\n",
       "      <td>602</td>\n",
       "      <td>427</td>\n",
       "      <td>0.9988</td>\n",
       "      <td>1.409836</td>\n",
       "      <td>175</td>\n",
       "    </tr>\n",
       "    <tr>\n",
       "      <th>42</th>\n",
       "      <td>D:\\Ivan\\Test_data\\Katipunan\\test/VID_20200717_...</td>\n",
       "      <td>674</td>\n",
       "      <td>461</td>\n",
       "      <td>0.9988</td>\n",
       "      <td>1.462039</td>\n",
       "      <td>213</td>\n",
       "    </tr>\n",
       "    <tr>\n",
       "      <th>18</th>\n",
       "      <td>D:/Ivan/Test_data/Katipunan/test/VID_20200611_...</td>\n",
       "      <td>918</td>\n",
       "      <td>954</td>\n",
       "      <td>0.9988</td>\n",
       "      <td>0.962264</td>\n",
       "      <td>36</td>\n",
       "    </tr>\n",
       "    <tr>\n",
       "      <th>14</th>\n",
       "      <td>D:\\Ivan\\Test_data\\Katipunan\\test/VID_20200521_...</td>\n",
       "      <td>496</td>\n",
       "      <td>499</td>\n",
       "      <td>0.9988</td>\n",
       "      <td>0.993988</td>\n",
       "      <td>3</td>\n",
       "    </tr>\n",
       "    <tr>\n",
       "      <th>15</th>\n",
       "      <td>D:\\Ivan\\Test_data\\Katipunan\\test/VID_20200530_...</td>\n",
       "      <td>552</td>\n",
       "      <td>576</td>\n",
       "      <td>0.9988</td>\n",
       "      <td>0.958333</td>\n",
       "      <td>24</td>\n",
       "    </tr>\n",
       "    <tr>\n",
       "      <th>16</th>\n",
       "      <td>D:/Ivan/Test_data/Katipunan/test/VID_20200602_...</td>\n",
       "      <td>579</td>\n",
       "      <td>600</td>\n",
       "      <td>0.9988</td>\n",
       "      <td>0.965000</td>\n",
       "      <td>21</td>\n",
       "    </tr>\n",
       "    <tr>\n",
       "      <th>39</th>\n",
       "      <td>D:\\Ivan\\Test_data\\Katipunan\\test/VID_20200708_...</td>\n",
       "      <td>594</td>\n",
       "      <td>712</td>\n",
       "      <td>0.9988</td>\n",
       "      <td>0.834270</td>\n",
       "      <td>118</td>\n",
       "    </tr>\n",
       "    <tr>\n",
       "      <th>20</th>\n",
       "      <td>D:/Ivan/Test_data/Katipunan/test/VID_20200620_...</td>\n",
       "      <td>711</td>\n",
       "      <td>740</td>\n",
       "      <td>0.9988</td>\n",
       "      <td>0.960811</td>\n",
       "      <td>29</td>\n",
       "    </tr>\n",
       "    <tr>\n",
       "      <th>19</th>\n",
       "      <td>D:\\Ivan\\Test_data\\Katipunan\\test/VID_20200614_...</td>\n",
       "      <td>607</td>\n",
       "      <td>630</td>\n",
       "      <td>0.9988</td>\n",
       "      <td>0.963492</td>\n",
       "      <td>23</td>\n",
       "    </tr>\n",
       "    <tr>\n",
       "      <th>17</th>\n",
       "      <td>D:/Ivan/Test_data/Katipunan/test/VID_20200605_...</td>\n",
       "      <td>440</td>\n",
       "      <td>468</td>\n",
       "      <td>0.9988</td>\n",
       "      <td>0.940171</td>\n",
       "      <td>28</td>\n",
       "    </tr>\n",
       "    <tr>\n",
       "      <th>40</th>\n",
       "      <td>D:\\Ivan\\Test_data\\Katipunan\\test/VID_20200711_...</td>\n",
       "      <td>618</td>\n",
       "      <td>727</td>\n",
       "      <td>0.9988</td>\n",
       "      <td>0.850069</td>\n",
       "      <td>109</td>\n",
       "    </tr>\n",
       "  </tbody>\n",
       "</table>\n",
       "</div>"
      ],
      "text/plain": [
       "                                               Videos  ActualCars  \\\n",
       "38  D:\\Ivan\\Test_data\\Katipunan\\test/VID_20200705_...         677   \n",
       "41  D:\\Ivan\\Test_data\\Katipunan\\test/VID_20200714_...         602   \n",
       "42  D:\\Ivan\\Test_data\\Katipunan\\test/VID_20200717_...         674   \n",
       "18  D:/Ivan/Test_data/Katipunan/test/VID_20200611_...         918   \n",
       "14  D:\\Ivan\\Test_data\\Katipunan\\test/VID_20200521_...         496   \n",
       "15  D:\\Ivan\\Test_data\\Katipunan\\test/VID_20200530_...         552   \n",
       "16  D:/Ivan/Test_data/Katipunan/test/VID_20200602_...         579   \n",
       "39  D:\\Ivan\\Test_data\\Katipunan\\test/VID_20200708_...         594   \n",
       "20  D:/Ivan/Test_data/Katipunan/test/VID_20200620_...         711   \n",
       "19  D:\\Ivan\\Test_data\\Katipunan\\test/VID_20200614_...         607   \n",
       "17  D:/Ivan/Test_data/Katipunan/test/VID_20200605_...         440   \n",
       "40  D:\\Ivan\\Test_data\\Katipunan\\test/VID_20200711_...         618   \n",
       "\n",
       "    ModelCountCars  conf_thres  precision  diff  \n",
       "38             753      0.9988   0.899070    76  \n",
       "41             427      0.9988   1.409836   175  \n",
       "42             461      0.9988   1.462039   213  \n",
       "18             954      0.9988   0.962264    36  \n",
       "14             499      0.9988   0.993988     3  \n",
       "15             576      0.9988   0.958333    24  \n",
       "16             600      0.9988   0.965000    21  \n",
       "39             712      0.9988   0.834270   118  \n",
       "20             740      0.9988   0.960811    29  \n",
       "19             630      0.9988   0.963492    23  \n",
       "17             468      0.9988   0.940171    28  \n",
       "40             727      0.9988   0.850069   109  "
      ]
     },
     "execution_count": 9,
     "metadata": {},
     "output_type": "execute_result"
    }
   ],
   "source": [
    "df_plt"
   ]
  },
  {
   "cell_type": "code",
   "execution_count": 39,
   "metadata": {},
   "outputs": [
    {
     "name": "stdout",
     "output_type": "stream",
     "text": [
      "[[0.61859583]\n",
      " [0.        ]\n",
      " [0.06451613]\n",
      " [1.        ]\n",
      " [0.13662239]\n",
      " [0.28273245]\n",
      " [0.32827324]\n",
      " [0.54079696]\n",
      " [0.59392789]\n",
      " [0.38519924]\n",
      " [0.07779886]\n",
      " [0.56925996]]\n",
      "[[0.4743833 ]\n",
      " [0.33206831]\n",
      " [0.4686907 ]\n",
      " [0.9316888 ]\n",
      " [0.13092979]\n",
      " [0.23719165]\n",
      " [0.28842505]\n",
      " [0.31688805]\n",
      " [0.53889943]\n",
      " [0.34155598]\n",
      " [0.02466793]\n",
      " [0.36242884]]\n"
     ]
    },
    {
     "name": "stderr",
     "output_type": "stream",
     "text": [
      "C:\\Users\\Ivan\\Anaconda3\\lib\\site-packages\\sklearn\\utils\\validation.py:595: DataConversionWarning: Data with input dtype int64 was converted to float64 by MinMaxScaler.\n",
      "  warnings.warn(msg, DataConversionWarning)\n"
     ]
    }
   ],
   "source": [
    "from sklearn.preprocessing import MinMaxScaler\n",
    "scaler = MinMaxScaler(feature_range=(0, 1))\n",
    "# np.reshape(df_plt['ModelCountCars'].values,(12,-1), order='C')\n",
    "scaled = scaler.fit(np.reshape(df_plt['ModelCountCars'].values,(12,-1), order='C'))\n",
    "scaledModel = scaler.transform(np.reshape(df_plt['ModelCountCars'].values,(12,-1), order='C'))\n",
    "scaledHuman = scaler.transform(np.reshape(df_plt['ActualCars'].values,(12,-1),order='C'))\n",
    "print(scaledModel)\n",
    "print(scaledHuman)"
   ]
  },
  {
   "cell_type": "code",
   "execution_count": null,
   "metadata": {},
   "outputs": [],
   "source": []
  }
 ],
 "metadata": {
  "kernelspec": {
   "display_name": "Python 3",
   "language": "python",
   "name": "python3"
  },
  "language_info": {
   "codemirror_mode": {
    "name": "ipython",
    "version": 3
   },
   "file_extension": ".py",
   "mimetype": "text/x-python",
   "name": "python",
   "nbconvert_exporter": "python",
   "pygments_lexer": "ipython3",
   "version": "3.7.1"
  }
 },
 "nbformat": 4,
 "nbformat_minor": 2
}
